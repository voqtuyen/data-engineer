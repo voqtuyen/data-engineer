{
 "cells": [
  {
   "cell_type": "markdown",
   "source": [
    "# Normal Forms"
   ],
   "metadata": {
    "collapsed": false,
    "pycharm": {
     "name": "#%% md\n"
    }
   }
  },
  {
   "cell_type": "markdown",
   "source": [
    "#### 1st Normal Form (1NF)\n",
    "- Each column must contain a single value (atomic)\n",
    "- All values in a column must be of the same type\n",
    "- Column name must be unique\n",
    "- No two rows in a table can be identical\n",
    "- Removing repeating groups(such as columns: author_1, author_2 in the same table)\n",
    "\n",
    "#### 2nd Normal Form (2NF)\n",
    "- Meet all requirements of 1NF\n",
    "- All of its non-key attributes are dependent on all of the primary key (partial dependency). Tables with a single column primary key are automatically be in 2NF\n",
    "\n",
    "\n",
    "#### 3rd Normal Form (3NF)\n",
    "- Meet all requirements of 2NF\n",
    "- No transitive dependencies"
   ],
   "metadata": {
    "collapsed": false,
    "pycharm": {
     "name": "#%% md\n"
    }
   }
  },
  {
   "cell_type": "markdown",
   "source": [
    "## Import libraries"
   ],
   "metadata": {
    "collapsed": false,
    "pycharm": {
     "name": "#%% md\n"
    }
   }
  },
  {
   "cell_type": "code",
   "execution_count": 1,
   "outputs": [],
   "source": [
    "import logging\n",
    "\n",
    "import psycopg2"
   ],
   "metadata": {
    "collapsed": false,
    "pycharm": {
     "name": "#%%\n"
    }
   }
  },
  {
   "cell_type": "code",
   "execution_count": 2,
   "outputs": [],
   "source": [
    "logger = logging.getLogger(__name__)"
   ],
   "metadata": {
    "collapsed": false,
    "pycharm": {
     "name": "#%%\n"
    }
   }
  },
  {
   "cell_type": "markdown",
   "source": [
    "### Connect to Postgres db"
   ],
   "metadata": {
    "collapsed": false,
    "pycharm": {
     "name": "#%% md\n"
    }
   }
  },
  {
   "cell_type": "code",
   "execution_count": 4,
   "outputs": [],
   "source": [
    "try:\n",
    "    connection = psycopg2.connect(\n",
    "        host='127.0.0.1',\n",
    "        user='postgres',\n",
    "        password='mysecretpassword',\n",
    "        dbname='postgres'\n",
    "    )\n",
    "\n",
    "    cursor = connection.cursor()\n",
    "    connection.set_session(autocommit=True)\n",
    "except psycopg2.Error as e:\n",
    "    logger.error('Can not connect to postgres db', exc_info=e)\n"
   ],
   "metadata": {
    "collapsed": false,
    "pycharm": {
     "name": "#%%\n"
    }
   }
  },
  {
   "cell_type": "markdown",
   "source": [
    "### Create un-normalized table"
   ],
   "metadata": {
    "collapsed": false,
    "pycharm": {
     "name": "#%% md\n"
    }
   }
  },
  {
   "cell_type": "code",
   "execution_count": 21,
   "outputs": [],
   "source": [
    "try:\n",
    "    cursor.execute(\"CREATE TABLE IF NOT EXISTS music_store (transaction_id int, customer_name varchar, cashier_name varchar, sale_year int, albums_purchased text[]);\")\n",
    "except psycopg2.Error as e:\n",
    "    logger.error('Can not create the table', exc_info=e)"
   ],
   "metadata": {
    "collapsed": false,
    "pycharm": {
     "name": "#%%\n"
    }
   }
  },
  {
   "cell_type": "code",
   "execution_count": 22,
   "outputs": [],
   "source": [
    "try:\n",
    "    cursor.execute(\"INSERT INTO music_store (transaction_id, customer_name, cashier_name, sale_year, albums_purchased) VALUES (%s, %s, %s, %s, %s)\", (1, \"Amanda\", \"Sam\", 2000, [\"Rubber Soul\", \"Let it be\"]))\n",
    "\n",
    "    cursor.execute(\"INSERT INTO music_store (transaction_id, customer_name, cashier_name, sale_year, albums_purchased) VALUES (%s, %s, %s, %s, %s)\", (2, \"Toby\", \"Sam\", 2000, [\"My Generation\"]))\n",
    "except psycopg2.Error as e:\n",
    "    logger.error('Can not insert data into the table', exc_info=e)\n"
   ],
   "metadata": {
    "collapsed": false,
    "pycharm": {
     "name": "#%%\n"
    }
   }
  },
  {
   "cell_type": "code",
   "execution_count": 23,
   "outputs": [
    {
     "data": {
      "text/plain": "[(1, 'Amanda', 'Sam', 2000, ['Rubber Soul', 'Let it be']),\n (2, 'Toby', 'Sam', 2000, ['My Generation'])]"
     },
     "execution_count": 23,
     "metadata": {},
     "output_type": "execute_result"
    }
   ],
   "source": [
    "cursor.execute(\"SELECT * FROM music_store;\")\n",
    "cursor.fetchall()"
   ],
   "metadata": {
    "collapsed": false,
    "pycharm": {
     "name": "#%%\n"
    }
   }
  },
  {
   "cell_type": "markdown",
   "source": [
    "### Creating 1st Normal Norm (1NF)"
   ],
   "metadata": {
    "collapsed": false,
    "pycharm": {
     "name": "#%% md\n"
    }
   }
  },
  {
   "cell_type": "code",
   "execution_count": 27,
   "outputs": [],
   "source": [
    "try:\n",
    "    cursor.execute(\"CREATE TABLE IF NOT EXISTS music_store_2 (transaction_id int, customer_name varchar, cashier_name varchar, sale_year int, album_purchased text);\")\n",
    "except psycopg2.Error as e:\n",
    "    logger.error('Can not create table', exc_info=e)"
   ],
   "metadata": {
    "collapsed": false,
    "pycharm": {
     "name": "#%%\n"
    }
   }
  },
  {
   "cell_type": "code",
   "execution_count": 28,
   "outputs": [],
   "source": [
    "try:\n",
    "    cursor.execute(\"INSERT INTO music_store_2 (transaction_id, customer_name, cashier_name, sale_year, album_purchased) VALUES (%s, %s, %s, %s, %s);\", (1, \"Amanda\", \"Sam\", 2000, \"Rubber Soul\"))\n",
    "except psycopg2.Error as e:\n",
    "    logger.error('Can not insert data into table', exc_info=e)"
   ],
   "metadata": {
    "collapsed": false,
    "pycharm": {
     "name": "#%%\n"
    }
   }
  },
  {
   "cell_type": "code",
   "execution_count": 29,
   "outputs": [],
   "source": [
    "try:\n",
    "    cursor.execute(\"INSERT INTO music_store_2 (transaction_id, customer_name, cashier_name, sale_year, album_purchased) VALUES (%s, %s, %s, %s, %s);\", (2, \"Amanda\", \"Sam\", 2000, \"Let it be\"))\n",
    "except psycopg2.Error as e:\n",
    "    logger.error(\"Can not insert into the table\", exc_info=e)"
   ],
   "metadata": {
    "collapsed": false,
    "pycharm": {
     "name": "#%%\n"
    }
   }
  },
  {
   "cell_type": "code",
   "execution_count": 30,
   "outputs": [],
   "source": [
    "try:\n",
    "    cursor.execute(\"INSERT INTO music_store_2 (transaction_id, customer_name, cashier_name, sale_year, album_purchased) VALUES (%s, %s, %s, %s, %s);\", (3, \"Toby\", \"Sam\", 2000, \"My Generation\"))\n",
    "except psycopg2.Error as e:\n",
    "    logger.error('Can not insert data into the table', exc_info=e)"
   ],
   "metadata": {
    "collapsed": false,
    "pycharm": {
     "name": "#%%\n"
    }
   }
  },
  {
   "cell_type": "code",
   "execution_count": 33,
   "outputs": [
    {
     "data": {
      "text/plain": "[(1, 'Amanda', 'Sam', 2000, 'Rubber Soul'),\n (2, 'Amanda', 'Sam', 2000, 'Let it be'),\n (3, 'Toby', 'Sam', 2000, 'My Generation')]"
     },
     "execution_count": 33,
     "metadata": {},
     "output_type": "execute_result"
    }
   ],
   "source": [
    "cursor.execute(\"SELECT * FROM music_store_2;\")\n",
    "cursor.fetchall()"
   ],
   "metadata": {
    "collapsed": false,
    "pycharm": {
     "name": "#%%\n"
    }
   }
  },
  {
   "cell_type": "markdown",
   "source": [
    "### Create 2nd Normal Form (2NF)"
   ],
   "metadata": {
    "collapsed": false,
    "pycharm": {
     "name": "#%% md\n"
    }
   }
  },
  {
   "cell_type": "code",
   "execution_count": null,
   "outputs": [],
   "source": [],
   "metadata": {
    "collapsed": false,
    "pycharm": {
     "name": "#%%\n"
    }
   }
  }
 ],
 "metadata": {
  "kernelspec": {
   "display_name": "Python 3",
   "language": "python",
   "name": "python3"
  },
  "language_info": {
   "codemirror_mode": {
    "name": "ipython",
    "version": 2
   },
   "file_extension": ".py",
   "mimetype": "text/x-python",
   "name": "python",
   "nbconvert_exporter": "python",
   "pygments_lexer": "ipython2",
   "version": "2.7.6"
  }
 },
 "nbformat": 4,
 "nbformat_minor": 0
}